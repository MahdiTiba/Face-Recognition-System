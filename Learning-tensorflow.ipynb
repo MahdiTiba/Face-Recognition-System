{
 "cells": [
  {
   "cell_type": "code",
   "execution_count": 146,
   "id": "a4b1db73",
   "metadata": {},
   "outputs": [],
   "source": [
    "import numpy as np\n",
    "import cv2\n",
    "import matplotlib.pyplot as plt"
   ]
  },
  {
   "cell_type": "code",
   "execution_count": 3,
   "id": "d32d5362",
   "metadata": {},
   "outputs": [],
   "source": [
    "import tensorflow as tf\n",
    "from tensorflow.keras.layers import Dense, Conv2D, Flatten\n",
    "from tensorflow.keras import Model"
   ]
  },
  {
   "cell_type": "markdown",
   "id": "4d3b807c",
   "metadata": {},
   "source": [
    "### Types"
   ]
  },
  {
   "cell_type": "code",
   "execution_count": 67,
   "id": "d94c0be7",
   "metadata": {},
   "outputs": [
    {
     "data": {
      "text/plain": [
       "<tf.Tensor: shape=(3,), dtype=uint32, numpy=array([ 3,  4, 22], dtype=uint32)>"
      ]
     },
     "execution_count": 67,
     "metadata": {},
     "output_type": "execute_result"
    }
   ],
   "source": [
    "tf.constant([3, 4, 22], dtype=tf.uint32)"
   ]
  },
  {
   "cell_type": "code",
   "execution_count": 63,
   "id": "a0f22b09",
   "metadata": {},
   "outputs": [
    {
     "data": {
      "text/plain": [
       "<tf.Tensor: shape=(3,), dtype=float32, numpy=array([ 2.,  5., -4.], dtype=float32)>"
      ]
     },
     "execution_count": 63,
     "metadata": {},
     "output_type": "execute_result"
    }
   ],
   "source": [
    "tf.constant([2, 5, -4], dtype=tf.float32)"
   ]
  },
  {
   "cell_type": "code",
   "execution_count": 65,
   "id": "dafcf263",
   "metadata": {},
   "outputs": [
    {
     "data": {
      "text/plain": [
       "<tf.Tensor: shape=(2,), dtype=string, numpy=array([b'2', b'hello'], dtype=object)>"
      ]
     },
     "execution_count": 65,
     "metadata": {},
     "output_type": "execute_result"
    }
   ],
   "source": [
    "tf.constant(['2', 'hello'], dtype=tf.string)"
   ]
  },
  {
   "cell_type": "markdown",
   "id": "2d97085d",
   "metadata": {},
   "source": [
    "### Tensors"
   ]
  },
  {
   "cell_type": "code",
   "execution_count": 26,
   "id": "a121ff4c",
   "metadata": {},
   "outputs": [
    {
     "data": {
      "text/plain": [
       "<tf.Tensor: shape=(6,), dtype=float32, numpy=array([ 3. ,  4. , 50. ,  2. , -2. ,  1.9], dtype=float32)>"
      ]
     },
     "execution_count": 26,
     "metadata": {},
     "output_type": "execute_result"
    }
   ],
   "source": [
    "#vactor tensor\n",
    "tf.constant([3, 4, 50, 2, -2, 1.9])"
   ]
  },
  {
   "cell_type": "code",
   "execution_count": 61,
   "id": "c617954a",
   "metadata": {},
   "outputs": [],
   "source": [
    "#variable tensor\n",
    "a = tf.Variable([[2, 3, 4], [-3, 1, 5]])"
   ]
  },
  {
   "cell_type": "markdown",
   "id": "666cdd71",
   "metadata": {},
   "source": [
    "### Activation Functions"
   ]
  },
  {
   "cell_type": "code",
   "execution_count": 9,
   "id": "6bf4da11",
   "metadata": {},
   "outputs": [
    {
     "data": {
      "text/plain": [
       "<tf.Tensor: shape=(2, 4), dtype=int32, numpy=\n",
       "array([[0, 4, 6, 0],\n",
       "       [4, 0, 3, 0]])>"
      ]
     },
     "execution_count": 9,
     "metadata": {},
     "output_type": "execute_result"
    }
   ],
   "source": [
    "tf.nn.relu(np.array([[-1, 4, 6, -33], [4, -2, 3, -5]]))"
   ]
  },
  {
   "cell_type": "code",
   "execution_count": 69,
   "id": "6ac76149",
   "metadata": {},
   "outputs": [
    {
     "data": {
      "text/plain": [
       "<tf.Tensor: shape=(3,), dtype=float32, numpy=array([0.95257413, 0.98201376, 1.        ], dtype=float32)>"
      ]
     },
     "execution_count": 69,
     "metadata": {},
     "output_type": "execute_result"
    }
   ],
   "source": [
    "tf.nn.sigmoid(tf.constant([3, 4, 56], dtype=tf.float32))"
   ]
  },
  {
   "cell_type": "markdown",
   "id": "b9d629ec",
   "metadata": {},
   "source": [
    "### Layers"
   ]
  },
  {
   "cell_type": "markdown",
   "id": "99ca70bd",
   "metadata": {},
   "source": [
    "##### Dense"
   ]
  },
  {
   "cell_type": "code",
   "execution_count": 109,
   "id": "e3f7aa6f",
   "metadata": {},
   "outputs": [],
   "source": [
    "#build dense layer\n",
    "dense_layer = tf.keras.layers.Dense(23, activation=tf.nn.relu)"
   ]
  },
  {
   "cell_type": "code",
   "execution_count": 110,
   "id": "348fd2b8",
   "metadata": {},
   "outputs": [
    {
     "data": {
      "text/plain": [
       "<tf.Tensor: shape=(1, 23), dtype=float32, numpy=\n",
       "array([[0.        , 1.2904663 , 0.58032227, 0.        , 2.0083008 ,\n",
       "        0.        , 1.4127808 , 0.32843018, 0.        , 2.1274414 ,\n",
       "        0.5821533 , 0.44462585, 0.9621582 , 0.        , 0.        ,\n",
       "        0.5593262 , 0.3932495 , 1.4438477 , 0.        , 0.37670898,\n",
       "        0.        , 0.5061035 , 0.        ]], dtype=float32)>"
      ]
     },
     "execution_count": 110,
     "metadata": {},
     "output_type": "execute_result"
    }
   ],
   "source": [
    "dense_layer(tf.constant([[2, 3, 2]], dtype=tf.float32))"
   ]
  },
  {
   "cell_type": "code",
   "execution_count": 111,
   "id": "05f4bcfe",
   "metadata": {},
   "outputs": [
    {
     "data": {
      "text/plain": [
       "[array([[ 0.23017752,  0.46914977,  0.02672285, -0.2701758 ,  0.2403521 ,\n",
       "         -0.13585442, -0.06123725,  0.18940264, -0.06357178,  0.12684321,\n",
       "          0.18375081,  0.01035684,  0.27927017, -0.04624197, -0.38204175,\n",
       "          0.23613548, -0.23340653,  0.15298653, -0.11287564, -0.08092049,\n",
       "         -0.44740573,  0.41702652,  0.1955297 ],\n",
       "        [-0.47009522, -0.03142819,  0.01083317,  0.35053992,  0.37583846,\n",
       "          0.01191917,  0.24304366, -0.09806314, -0.00613528,  0.4688095 ,\n",
       "         -0.11264703,  0.12720102,  0.30588192, -0.02014583, -0.15655756,\n",
       "          0.30006766,  0.03716928,  0.19989038,  0.16618711, -0.08545712,\n",
       "          0.14431107, -0.12190333, -0.412731  ],\n",
       "        [ 0.10399103,  0.22317266,  0.24717802, -0.33941686,  0.20023042,\n",
       "         -0.11549842,  0.40299708,  0.12186837, -0.0412235 ,  0.23379916,\n",
       "          0.2764851 ,  0.02116805, -0.2570638 , -0.33505738,  0.02554387,\n",
       "         -0.40649262,  0.3743376 ,  0.269076  , -0.16796193,  0.39749336,\n",
       "         -0.315004  ,  0.01888847,  0.22639173]], dtype=float32),\n",
       " array([0., 0., 0., 0., 0., 0., 0., 0., 0., 0., 0., 0., 0., 0., 0., 0., 0.,\n",
       "        0., 0., 0., 0., 0., 0.], dtype=float32)]"
      ]
     },
     "execution_count": 111,
     "metadata": {},
     "output_type": "execute_result"
    }
   ],
   "source": [
    "dense_layer.get_weights()"
   ]
  },
  {
   "cell_type": "markdown",
   "id": "ad796210",
   "metadata": {},
   "source": [
    "##### Conv2D"
   ]
  },
  {
   "cell_type": "code",
   "execution_count": 211,
   "id": "7df67412",
   "metadata": {},
   "outputs": [
    {
     "data": {
      "text/plain": [
       "(1, 185, 273, 3)"
      ]
     },
     "execution_count": 211,
     "metadata": {},
     "output_type": "execute_result"
    }
   ],
   "source": [
    "img = cv2.imread('images/cat.jpg')\n",
    "img = np.expand_dims(img, axis=0)\n",
    "img = img.astype(np.float32)\n",
    "img.shape"
   ]
  },
  {
   "cell_type": "code",
   "execution_count": 212,
   "id": "398a57e6",
   "metadata": {},
   "outputs": [],
   "source": [
    "layer_conv = tf.keras.layers.Conv2D(16, (5, 5), activation=tf.nn.relu)"
   ]
  },
  {
   "cell_type": "code",
   "execution_count": 213,
   "id": "47d4fc6d",
   "metadata": {},
   "outputs": [
    {
     "data": {
      "text/plain": [
       "TensorShape([1, 181, 269, 16])"
      ]
     },
     "execution_count": 213,
     "metadata": {},
     "output_type": "execute_result"
    }
   ],
   "source": [
    "layer2Img = layer_conv(img)\n",
    "layer2Img.shape"
   ]
  },
  {
   "cell_type": "code",
   "execution_count": 214,
   "id": "e0c2679b",
   "metadata": {},
   "outputs": [
    {
     "data": {
      "text/plain": [
       "(5, 5, 3, 16)"
      ]
     },
     "execution_count": 214,
     "metadata": {},
     "output_type": "execute_result"
    }
   ],
   "source": [
    "layer_conv.get_weights()[0].shape"
   ]
  },
  {
   "cell_type": "code",
   "execution_count": 221,
   "id": "15ade508",
   "metadata": {},
   "outputs": [
    {
     "data": {
      "text/plain": [
       "<matplotlib.image.AxesImage at 0x197be913a30>"
      ]
     },
     "execution_count": 221,
     "metadata": {},
     "output_type": "execute_result"
    },
    {
     "data": {
      "image/png": "[encoded data removed]",
      "text/plain": [
       "<Figure size 640x480 with 1 Axes>"
      ]
     },
     "metadata": {},
     "output_type": "display_data"
    }
   ],
   "source": [
    "plt.imshow(layer2Img[0, :, :, 8])"
   ]
  },
  {
   "cell_type": "markdown",
   "id": "59b328a6",
   "metadata": {},
   "source": [
    "##### Flatten"
   ]
  },
  {
   "cell_type": "code",
   "execution_count": 177,
   "id": "05cca451",
   "metadata": {},
   "outputs": [],
   "source": [
    "tensor = tf.constant([[1, 2, 3], [4, 5, 6], [33, 33, 22]])\n",
    "\n",
    "# Create a Flatten layer\n",
    "flatten_layer = tf.keras.layers.Flatten()\n",
    "\n",
    "# Flatten the tensor using the Flatten layer\n",
    "flattened_tensor = flatten_layer(tensor)"
   ]
  },
  {
   "cell_type": "code",
   "execution_count": 178,
   "id": "fc489b6c",
   "metadata": {},
   "outputs": [
    {
     "data": {
      "text/plain": [
       "<tf.Tensor: shape=(3, 3), dtype=int32, numpy=\n",
       "array([[ 1,  2,  3],\n",
       "       [ 4,  5,  6],\n",
       "       [33, 33, 22]])>"
      ]
     },
     "execution_count": 178,
     "metadata": {},
     "output_type": "execute_result"
    }
   ],
   "source": [
    "flattened_tensor"
   ]
  },
  {
   "cell_type": "markdown",
   "id": "20901bf4",
   "metadata": {},
   "source": [
    "##### MaxPooling2D"
   ]
  },
  {
   "cell_type": "code",
   "execution_count": 254,
   "id": "73d80362",
   "metadata": {},
   "outputs": [],
   "source": [
    "img = cv2.imread('images/cat.jpg')\n",
    "img = np.expand_dims(img, axis=0)"
   ]
  },
  {
   "cell_type": "code",
   "execution_count": 255,
   "id": "128ffe4c",
   "metadata": {},
   "outputs": [
    {
     "data": {
      "text/plain": [
       "(1, 185, 273, 3)"
      ]
     },
     "execution_count": 255,
     "metadata": {},
     "output_type": "execute_result"
    }
   ],
   "source": [
    "img = img.astype(np.float32)\n",
    "img.shape"
   ]
  },
  {
   "cell_type": "code",
   "execution_count": 257,
   "id": "2d45b598",
   "metadata": {},
   "outputs": [
    {
     "data": {
      "text/plain": [
       "TensorShape([1, 92, 136, 3])"
      ]
     },
     "execution_count": 257,
     "metadata": {},
     "output_type": "execute_result"
    }
   ],
   "source": [
    "layer2Img = tf.keras.layers.MaxPooling2D(pool_size=(2, 2))(img)\n",
    "layer2Img.shape"
   ]
  },
  {
   "cell_type": "code",
   "execution_count": 258,
   "id": "f4cb071d",
   "metadata": {},
   "outputs": [
    {
     "data": {
      "text/plain": [
       "TensorShape([92, 136, 3])"
      ]
     },
     "execution_count": 258,
     "metadata": {},
     "output_type": "execute_result"
    }
   ],
   "source": [
    "layer2Img[0].shape"
   ]
  },
  {
   "cell_type": "code",
   "execution_count": 263,
   "id": "7f6fa982",
   "metadata": {},
   "outputs": [],
   "source": [
    "output = tf.cast(layer2Img[0], tf.int32) "
   ]
  },
  {
   "cell_type": "code",
   "execution_count": 264,
   "id": "05d4b84f",
   "metadata": {},
   "outputs": [
    {
     "data": {
      "text/plain": [
       "<matplotlib.image.AxesImage at 0x197c9af8f40>"
      ]
     },
     "execution_count": 264,
     "metadata": {},
     "output_type": "execute_result"
    },
    {
     "data": {
      "image/png": "[encoded data removed]",
      "text/plain": [
       "<Figure size 640x480 with 1 Axes>"
      ]
     },
     "metadata": {},
     "output_type": "display_data"
    }
   ],
   "source": [
    "plt.imshow(output)"
   ]
  },
  {
   "cell_type": "markdown",
   "id": "d283a923",
   "metadata": {},
   "source": [
    "##### GlobalAveragePooling2D"
   ]
  },
  {
   "cell_type": "code",
   "execution_count": 265,
   "id": "8c11a44e",
   "metadata": {},
   "outputs": [
    {
     "data": {
      "text/plain": [
       "(1, 185, 273, 3)"
      ]
     },
     "execution_count": 265,
     "metadata": {},
     "output_type": "execute_result"
    }
   ],
   "source": [
    "img.shape"
   ]
  },
  {
   "cell_type": "code",
   "execution_count": 266,
   "id": "e428da45",
   "metadata": {},
   "outputs": [],
   "source": [
    "avg = tf.keras.layers.GlobalAveragePooling2D()"
   ]
  },
  {
   "cell_type": "code",
   "execution_count": 267,
   "id": "74c73be1",
   "metadata": {},
   "outputs": [
    {
     "data": {
      "text/plain": [
       "<tf.Tensor: shape=(1, 3), dtype=float32, numpy=array([[ 99.6635 , 116.13235, 135.05504]], dtype=float32)>"
      ]
     },
     "execution_count": 267,
     "metadata": {},
     "output_type": "execute_result"
    }
   ],
   "source": [
    "avg(img)"
   ]
  },
  {
   "cell_type": "markdown",
   "id": "2dbd08e6",
   "metadata": {},
   "source": [
    "##### Dropout"
   ]
  },
  {
   "cell_type": "code",
   "execution_count": 360,
   "id": "c2b9b6c5",
   "metadata": {},
   "outputs": [],
   "source": [
    "layer = tf.keras.layers.Dropout(0.3)"
   ]
  },
  {
   "cell_type": "code",
   "execution_count": 361,
   "id": "b5e57bbb",
   "metadata": {},
   "outputs": [],
   "source": [
    "input_data = tf.constant([[23, 54, 6, 34, 5], [23, 43, 54, 32, 3]], dtype=tf.float32)"
   ]
  },
  {
   "cell_type": "code",
   "execution_count": 377,
   "id": "73d9c575",
   "metadata": {},
   "outputs": [
    {
     "data": {
      "text/plain": [
       "<tf.Tensor: shape=(2, 5), dtype=float32, numpy=\n",
       "array([[32.857143 , 77.14286  ,  8.571428 , 48.57143  ,  7.1428576],\n",
       "       [ 0.       ,  0.       , 77.14286  ,  0.       ,  4.285714 ]],\n",
       "      dtype=float32)>"
      ]
     },
     "execution_count": 377,
     "metadata": {},
     "output_type": "execute_result"
    }
   ],
   "source": [
    "output = layer(input_data, training=True)\n",
    "output"
   ]
  },
  {
   "cell_type": "markdown",
   "id": "5cc1163a",
   "metadata": {},
   "source": [
    "### change shape and type"
   ]
  },
  {
   "cell_type": "code",
   "execution_count": 378,
   "id": "a773b33c",
   "metadata": {},
   "outputs": [
    {
     "data": {
      "text/plain": [
       "<tf.Tensor: shape=(3, 3), dtype=int32, numpy=\n",
       "array([[ 1,  2,  3],\n",
       "       [ 4,  5,  6],\n",
       "       [33, 33, 22]])>"
      ]
     },
     "execution_count": 378,
     "metadata": {},
     "output_type": "execute_result"
    }
   ],
   "source": [
    "tensor"
   ]
  },
  {
   "cell_type": "code",
   "execution_count": 383,
   "id": "89fdac9e",
   "metadata": {},
   "outputs": [
    {
     "data": {
      "text/plain": [
       "TensorShape([3, 3])"
      ]
     },
     "execution_count": 383,
     "metadata": {},
     "output_type": "execute_result"
    }
   ],
   "source": [
    "tensor.shape"
   ]
  },
  {
   "cell_type": "code",
   "execution_count": 387,
   "id": "b147726c",
   "metadata": {},
   "outputs": [
    {
     "data": {
      "text/plain": [
       "TensorShape([3, 3, 1])"
      ]
     },
     "execution_count": 387,
     "metadata": {},
     "output_type": "execute_result"
    }
   ],
   "source": [
    "tensor = tensor[:, :, tf.newaxis]\n",
    "tensor.shape"
   ]
  },
  {
   "cell_type": "code",
   "execution_count": 389,
   "id": "4ce84b84",
   "metadata": {},
   "outputs": [
    {
     "data": {
      "text/plain": [
       "TensorShape([3, 1, 3])"
      ]
     },
     "execution_count": 389,
     "metadata": {},
     "output_type": "execute_result"
    }
   ],
   "source": [
    "tensor = tf.reshape(tensor, shape=(3, 1, 3))\n",
    "tensor.shape"
   ]
  },
  {
   "cell_type": "code",
   "execution_count": 386,
   "id": "ec50efac",
   "metadata": {},
   "outputs": [
    {
     "data": {
      "text/plain": [
       "<tf.Tensor: shape=(3, 3), dtype=float32, numpy=\n",
       "array([[ 1.,  2.,  3.],\n",
       "       [ 4.,  5.,  6.],\n",
       "       [33., 33., 22.]], dtype=float32)>"
      ]
     },
     "execution_count": 386,
     "metadata": {},
     "output_type": "execute_result"
    }
   ],
   "source": [
    "tf.cast(tensor, tf.float32)"
   ]
  },
  {
   "cell_type": "markdown",
   "id": "a6aaefc1",
   "metadata": {},
   "source": [
    "### Call model instance"
   ]
  },
  {
   "cell_type": "code",
   "execution_count": 479,
   "id": "b5d2462b",
   "metadata": {},
   "outputs": [],
   "source": [
    "model = tf.keras.models.Sequential()\n",
    "model.add(Dense(16, activation='relu', input_shape=(10,)))\n",
    "model.add(tf.keras.layers.Dense(1, activation='sigmoid'))"
   ]
  },
  {
   "cell_type": "code",
   "execution_count": 493,
   "id": "c0b14ab3",
   "metadata": {},
   "outputs": [],
   "source": [
    "model.compile(optimizer = 'adam')"
   ]
  },
  {
   "cell_type": "code",
   "execution_count": 475,
   "id": "af1f493f",
   "metadata": {},
   "outputs": [
    {
     "name": "stdout",
     "output_type": "stream",
     "text": [
      "Model: \"sequential_11\"\n",
      "_________________________________________________________________\n",
      " Layer (type)                Output Shape              Param #   \n",
      "=================================================================\n",
      " dense_29 (Dense)            (None, 16)                176       \n",
      "                                                                 \n",
      " dense_30 (Dense)            (None, 1)                 17        \n",
      "                                                                 \n",
      "=================================================================\n",
      "Total params: 193\n",
      "Trainable params: 193\n",
      "Non-trainable params: 0\n",
      "_________________________________________________________________\n"
     ]
    }
   ],
   "source": [
    "model.summary()"
   ]
  },
  {
   "cell_type": "code",
   "execution_count": 478,
   "id": "598d5ab2",
   "metadata": {},
   "outputs": [
    {
     "data": {
      "text/plain": [
       "<tf.Tensor: shape=(1, 1), dtype=float32, numpy=array([[0.5205299]], dtype=float32)>"
      ]
     },
     "execution_count": 478,
     "metadata": {},
     "output_type": "execute_result"
    }
   ],
   "source": [
    "model(tf.random.normal(shape=(1, 10)))"
   ]
  },
  {
   "cell_type": "markdown",
   "id": "2b58d208",
   "metadata": {},
   "source": [
    "### Convert to numpy array"
   ]
  },
  {
   "cell_type": "code",
   "execution_count": 496,
   "id": "cfa4129f",
   "metadata": {},
   "outputs": [
    {
     "data": {
      "text/plain": [
       "array([[[ 1,  2,  3]],\n",
       "\n",
       "       [[ 4,  5,  6]],\n",
       "\n",
       "       [[33, 33, 22]]])"
      ]
     },
     "execution_count": 496,
     "metadata": {},
     "output_type": "execute_result"
    }
   ],
   "source": [
    "tensor.numpy()"
   ]
  },
  {
   "cell_type": "markdown",
   "id": "3a2577a5",
   "metadata": {},
   "source": [
    "### Math operations"
   ]
  },
  {
   "cell_type": "code",
   "execution_count": 502,
   "id": "c4c62963",
   "metadata": {},
   "outputs": [
    {
     "data": {
      "text/plain": [
       "<tf.Tensor: shape=(2,), dtype=int32, numpy=array([4, 6])>"
      ]
     },
     "execution_count": 502,
     "metadata": {},
     "output_type": "execute_result"
    }
   ],
   "source": [
    "tf.math.add([2, 3], [2, 3])"
   ]
  },
  {
   "cell_type": "code",
   "execution_count": 498,
   "id": "5c22e732",
   "metadata": {},
   "outputs": [
    {
     "data": {
      "text/plain": [
       "<tf.Tensor: shape=(2,), dtype=int32, numpy=array([4, 9])>"
      ]
     },
     "execution_count": 498,
     "metadata": {},
     "output_type": "execute_result"
    }
   ],
   "source": [
    "tf.math.square([2, 3])"
   ]
  },
  {
   "cell_type": "code",
   "execution_count": 504,
   "id": "127ba091",
   "metadata": {},
   "outputs": [
    {
     "data": {
      "text/plain": [
       "<tf.Tensor: shape=(), dtype=int32, numpy=9>"
      ]
     },
     "execution_count": 504,
     "metadata": {},
     "output_type": "execute_result"
    }
   ],
   "source": [
    "tf.math.reduce_sum([2, 3, 4])"
   ]
  },
  {
   "cell_type": "code",
   "execution_count": 512,
   "id": "869f8c46",
   "metadata": {},
   "outputs": [
    {
     "data": {
      "text/plain": [
       "<tf.Tensor: shape=(2, 2), dtype=int32, numpy=\n",
       "array([[ 8,  6],\n",
       "       [ 4, 15]])>"
      ]
     },
     "execution_count": 512,
     "metadata": {},
     "output_type": "execute_result"
    }
   ],
   "source": [
    "tf.math.multiply([[2, 3], [1, 3]], [[4, 2], [4, 5]])"
   ]
  },
  {
   "cell_type": "markdown",
   "id": "f5481571",
   "metadata": {},
   "source": [
    "### GPU acceleration"
   ]
  },
  {
   "cell_type": "code",
   "execution_count": 526,
   "id": "1aab4f3c",
   "metadata": {},
   "outputs": [],
   "source": [
    "x = tf.random.uniform([10000, 10000])\n",
    "y = tf.random.uniform([10000, 10000])"
   ]
  },
  {
   "cell_type": "code",
   "execution_count": 527,
   "id": "c8fac099",
   "metadata": {},
   "outputs": [
    {
     "data": {
      "text/plain": [
       "[PhysicalDevice(name='/physical_device:CPU:0', device_type='CPU'),\n",
       " PhysicalDevice(name='/physical_device:GPU:0', device_type='GPU')]"
      ]
     },
     "execution_count": 527,
     "metadata": {},
     "output_type": "execute_result"
    }
   ],
   "source": [
    "tf.config.list_physical_devices()"
   ]
  },
  {
   "cell_type": "code",
   "execution_count": 528,
   "id": "4f80418d",
   "metadata": {},
   "outputs": [
    {
     "data": {
      "text/plain": [
       "'/job:localhost/replica:0/task:0/device:GPU:0'"
      ]
     },
     "execution_count": 528,
     "metadata": {},
     "output_type": "execute_result"
    }
   ],
   "source": [
    "x.device"
   ]
  },
  {
   "cell_type": "code",
   "execution_count": 529,
   "id": "e35d9008",
   "metadata": {},
   "outputs": [
    {
     "data": {
      "text/plain": [
       "'/job:localhost/replica:0/task:0/device:GPU:0'"
      ]
     },
     "execution_count": 529,
     "metadata": {},
     "output_type": "execute_result"
    }
   ],
   "source": [
    "y.device"
   ]
  },
  {
   "cell_type": "code",
   "execution_count": 533,
   "id": "74e303aa",
   "metadata": {},
   "outputs": [
    {
     "data": {
      "text/plain": [
       "TensorShape([10000, 10000])"
      ]
     },
     "execution_count": 533,
     "metadata": {},
     "output_type": "execute_result"
    }
   ],
   "source": [
    "#watch the performance\n",
    "for i in range(5000):\n",
    "    result = tf.math.multiply(x, y)\n",
    "    \n",
    "result.shape"
   ]
  },
  {
   "cell_type": "code",
   "execution_count": 539,
   "id": "ab232286",
   "metadata": {},
   "outputs": [
    {
     "name": "stdout",
     "output_type": "stream",
     "text": [
      "On CPU:\n",
      "10 loops: 3840.86ms\n",
      "On GPU:\n",
      "10 loops: 60.18ms\n"
     ]
    }
   ],
   "source": [
    "import time\n",
    "\n",
    "def time_matmul(x):\n",
    "  start = time.time()\n",
    "  for loop in range(1000):\n",
    "    tf.linalg.matmul(x, x)\n",
    "\n",
    "  result = time.time()-start\n",
    "\n",
    "  print(\"10 loops: {:0.2f}ms\".format(1000*result))\n",
    "\n",
    "# Force execution on CPU\n",
    "print(\"On CPU:\")\n",
    "with tf.device(\"CPU:0\"):\n",
    "  x = tf.random.uniform([1000, 1000])\n",
    "  assert x.device.endswith(\"CPU:0\")\n",
    "  time_matmul(x)\n",
    "\n",
    "# Force execution on GPU #0 if available\n",
    "if tf.config.list_physical_devices(\"GPU\"):\n",
    "  print(\"On GPU:\")\n",
    "  with tf.device(\"GPU:0\"): # Or GPU:1 for the 2nd GPU, GPU:2 for the 3rd etc.\n",
    "    x = tf.random.uniform([1000, 1000])\n",
    "    assert x.device.endswith(\"GPU:0\")\n",
    "    time_matmul(x)"
   ]
  },
  {
   "cell_type": "markdown",
   "id": "c7d137a1",
   "metadata": {},
   "source": [
    "### tf.data"
   ]
  },
  {
   "cell_type": "code",
   "execution_count": null,
   "id": "15832381",
   "metadata": {},
   "outputs": [],
   "source": []
  },
  {
   "cell_type": "markdown",
   "id": "a40774f5",
   "metadata": {},
   "source": [
    "### model subclassing API"
   ]
  },
  {
   "cell_type": "code",
   "execution_count": 435,
   "id": "e56883e1",
   "metadata": {},
   "outputs": [],
   "source": [
    "class MyModel(tf.keras.Model):\n",
    "    def __init__(self):\n",
    "        super().__init__()\n",
    "        self.act = tf.nn.relu\n",
    "        \n",
    "    def call(self, x):\n",
    "        output = tf.keras.layers.Dense(16)(x)\n",
    "        return output"
   ]
  },
  {
   "cell_type": "code",
   "execution_count": 436,
   "id": "7f2c9d50",
   "metadata": {},
   "outputs": [],
   "source": [
    "model = MyModel()"
   ]
  },
  {
   "cell_type": "code",
   "execution_count": 437,
   "id": "f6e53991",
   "metadata": {},
   "outputs": [
    {
     "data": {
      "text/plain": [
       "<tf.Tensor: shape=(1, 16), dtype=float32, numpy=\n",
       "array([[ 1.1757812 ,  0.7285156 , -0.90185547, -0.07409668, -0.3930664 ,\n",
       "        -0.9526367 , -1.0126953 , -0.5444336 ,  0.1907959 ,  0.12261963,\n",
       "         0.64160156, -0.49804688, -1.0361328 , -1.1220703 ,  0.98291016,\n",
       "        -0.07989502]], dtype=float32)>"
      ]
     },
     "execution_count": 437,
     "metadata": {},
     "output_type": "execute_result"
    }
   ],
   "source": [
    "model.call(tf.constant([[2]], dtype=tf.float32))"
   ]
  },
  {
   "cell_type": "code",
   "execution_count": 438,
   "id": "8d13ea90",
   "metadata": {},
   "outputs": [
    {
     "data": {
      "text/plain": [
       "<function tensorflow.python.ops.gen_nn_ops.relu(features, name=None)>"
      ]
     },
     "execution_count": 438,
     "metadata": {},
     "output_type": "execute_result"
    }
   ],
   "source": [
    "model.act"
   ]
  }
 ],
 "metadata": {
  "kernelspec": {
   "display_name": "Python 3 (ipykernel)",
   "language": "python",
   "name": "python3"
  },
  "language_info": {
   "codemirror_mode": {
    "name": "ipython",
    "version": 3
   },
   "file_extension": ".py",
   "mimetype": "text/x-python",
   "name": "python",
   "nbconvert_exporter": "python",
   "pygments_lexer": "ipython3",
   "version": "3.9.19"
  }
 },
 "nbformat": 4,
 "nbformat_minor": 5
}
