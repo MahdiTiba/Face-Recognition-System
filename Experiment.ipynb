{
 "cells": [
  {
   "cell_type": "markdown",
   "id": "a6b2cafa",
   "metadata": {},
   "source": [
    "### Requirement Libraries"
   ]
  },
  {
   "cell_type": "code",
   "execution_count": 61,
   "id": "33d409fd",
   "metadata": {},
   "outputs": [],
   "source": [
    "import tensorflow as tf\n",
    "import numpy as np\n",
    "import matplotlib.pyplot as plt\n",
    "import cv2\n",
    "import os"
   ]
  },
  {
   "cell_type": "code",
   "execution_count": 123,
   "id": "2c37d291",
   "metadata": {},
   "outputs": [
    {
     "data": {
      "text/plain": [
       "'4.9.0'"
      ]
     },
     "execution_count": 123,
     "metadata": {},
     "output_type": "execute_result"
    }
   ],
   "source": [
    "#we can use internal openCV face detector model in version >= 3.3\n",
    "cv2.__version__"
   ]
  },
  {
   "cell_type": "code",
   "execution_count": 137,
   "id": "089408a3",
   "metadata": {},
   "outputs": [],
   "source": [
    "a = np.array([3, 15, 6, 7, 6])\n",
    "p = np.array([2, 12, 8, 3, 6])\n",
    "N = [3, 12, 6, 7, 6]"
   ]
  },
  {
   "cell_type": "code",
   "execution_count": 138,
   "id": "3a45c6af",
   "metadata": {},
   "outputs": [
    {
     "data": {
      "text/plain": [
       "<tf.Tensor: shape=(), dtype=int32, numpy=30>"
      ]
     },
     "execution_count": 138,
     "metadata": {},
     "output_type": "execute_result"
    }
   ],
   "source": [
    "tf.reduce_sum(tf.square(a - p), axis=-1)"
   ]
  },
  {
   "cell_type": "code",
   "execution_count": 139,
   "id": "eca77fc2",
   "metadata": {},
   "outputs": [
    {
     "data": {
      "text/plain": [
       "<tf.Tensor: shape=(), dtype=int32, numpy=9>"
      ]
     },
     "execution_count": 139,
     "metadata": {},
     "output_type": "execute_result"
    }
   ],
   "source": [
    "tf.reduce_sum(tf.square(a - N), axis=-1)"
   ]
  },
  {
   "cell_type": "code",
   "execution_count": null,
   "id": "232920c2",
   "metadata": {},
   "outputs": [],
   "source": []
  }
 ],
 "metadata": {
  "kernelspec": {
   "display_name": "Python 3 (ipykernel)",
   "language": "python",
   "name": "python3"
  },
  "language_info": {
   "codemirror_mode": {
    "name": "ipython",
    "version": 3
   },
   "file_extension": ".py",
   "mimetype": "text/x-python",
   "name": "python",
   "nbconvert_exporter": "python",
   "pygments_lexer": "ipython3",
   "version": "3.9.19"
  }
 },
 "nbformat": 4,
 "nbformat_minor": 5
}
